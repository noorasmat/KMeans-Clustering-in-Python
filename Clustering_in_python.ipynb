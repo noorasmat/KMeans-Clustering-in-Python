{
  "nbformat": 4,
  "nbformat_minor": 0,
  "metadata": {
    "kernelspec": {
      "display_name": "Python 3",
      "language": "python",
      "name": "python3"
    },
    "language_info": {
      "codemirror_mode": {
        "name": "ipython",
        "version": 3
      },
      "file_extension": ".py",
      "mimetype": "text/x-python",
      "name": "python",
      "nbconvert_exporter": "python",
      "pygments_lexer": "ipython3",
      "version": "3.6.4"
    },
    "colab": {
      "name": "Clustering-in-python.ipynb",
      "version": "0.3.2",
      "provenance": [],
      "collapsed_sections": [],
      "include_colab_link": true
    }
  },
  "cells": [
    {
      "cell_type": "markdown",
      "metadata": {
        "id": "view-in-github",
        "colab_type": "text"
      },
      "source": [
        "<a href=\"https://colab.research.google.com/github/noorasmat/KMeans-Clustering-in-Python/blob/master/Clustering_in_python.ipynb\" target=\"_parent\"><img src=\"https://colab.research.google.com/assets/colab-badge.svg\" alt=\"Open In Colab\"/></a>"
      ]
    },
    {
      "cell_type": "markdown",
      "metadata": {
        "_cell_guid": "d675f93d-0c0d-4ac7-b053-dd9065a33d56",
        "_uuid": "3131dcaf31c96c676242a0df7193a99d2d3bce2d",
        "id": "wRTbydx_YCc3",
        "colab_type": "text"
      },
      "source": [
        "**Basic Visualization and Clustering in Python: World Happiness Report**\n",
        "\n",
        "This kernel shows basic visualization of data using Choropleth maps. Further, it tries to cluster the data using few clustering algorithms including K-means and Guassian Mixture Model based on several factors such as GDP per capita, life expectancy, corruption etc. We have considered 2017 data only. [Kaggle Help](https://www.kaggle.com/dhanyajothimani/basic-visualization-and-clustering-in-python)"
      ]
    },
    {
      "cell_type": "code",
      "metadata": {
        "_cell_guid": "d961dd33-8257-4064-80fe-29c202d672fe",
        "_uuid": "0992f2ae0d2bb5a57d788d9cdd375bb6b1e95fb4",
        "collapsed": true,
        "id": "KILo4rIYYCc5",
        "colab_type": "code",
        "outputId": "c8ca3360-cadb-44f7-b652-7c19f48bf68e",
        "colab": {
          "base_uri": "https://localhost:8080/",
          "height": 17
        }
      },
      "source": [
        "#Call required libraries\n",
        "import time                   # To time processes\n",
        "import warnings               # To suppress warnings\n",
        "\n",
        "import numpy as np            # Data manipulation\n",
        "import pandas as pd           # Dataframe manipulatio \n",
        "import matplotlib.pyplot as plt                   # For graphics\n",
        "%matplotlib inline\n",
        "import seaborn as sns\n",
        "import plotly.plotly as py #For World Map\n",
        "import plotly.graph_objs as go\n",
        "from plotly.offline import download_plotlyjs, init_notebook_mode, plot, iplot\n",
        "init_notebook_mode(connected=True)\n",
        "\n",
        "from sklearn.preprocessing import StandardScaler  # For scaling dataset\n",
        "from sklearn.cluster import KMeans, AgglomerativeClustering, AffinityPropagation #For clustering\n",
        "from sklearn.mixture import GaussianMixture #For GMM clustering\n",
        "\n",
        "import os                     # For os related operations\n",
        "import sys                    # For data size\n"
      ],
      "execution_count": 21,
      "outputs": [
        {
          "output_type": "display_data",
          "data": {
            "text/vnd.plotly.v1+html": "<script type=\"text/javascript\">window.PlotlyConfig = {MathJaxConfig: 'local'};</script><script type=\"text/javascript\">if (window.MathJax) {MathJax.Hub.Config({SVG: {font: \"STIX-Web\"}});}</script><script>requirejs.config({paths: { 'plotly': ['https://cdn.plot.ly/plotly-latest.min']},});if(!window._Plotly) {require(['plotly'],function(plotly) {window._Plotly=plotly;});}</script>",
            "text/html": [
              "<script type=\"text/javascript\">window.PlotlyConfig = {MathJaxConfig: 'local'};</script><script type=\"text/javascript\">if (window.MathJax) {MathJax.Hub.Config({SVG: {font: \"STIX-Web\"}});}</script><script>requirejs.config({paths: { 'plotly': ['https://cdn.plot.ly/plotly-latest.min']},});if(!window._Plotly) {require(['plotly'],function(plotly) {window._Plotly=plotly;});}</script>"
            ]
          },
          "metadata": {
            "tags": []
          }
        }
      ]
    },
    {
      "cell_type": "code",
      "metadata": {
        "id": "_4u5JJJlZYlF",
        "colab_type": "code",
        "outputId": "ac6824bc-159f-4897-889d-92d256945ded",
        "colab": {
          "base_uri": "https://localhost:8080/",
          "height": 55
        }
      },
      "source": [
        "from google.colab import drive\n",
        "drive.mount('/content/drive')"
      ],
      "execution_count": 22,
      "outputs": [
        {
          "output_type": "stream",
          "text": [
            "Drive already mounted at /content/drive; to attempt to forcibly remount, call drive.mount(\"/content/drive\", force_remount=True).\n"
          ],
          "name": "stdout"
        }
      ]
    },
    {
      "cell_type": "code",
      "metadata": {
        "_cell_guid": "1f8e1c6c-3c6d-42e0-b636-6ab998573190",
        "_uuid": "5c5dd3d5f14263397b29bef8f271e9d5911087db",
        "collapsed": true,
        "id": "oI09mY9ZYCdA",
        "colab_type": "code",
        "outputId": "a5ed5430-87b1-49f9-c287-37ed4d768394",
        "colab": {
          "base_uri": "https://localhost:8080/",
          "height": 317
        }
      },
      "source": [
        "wh = pd.read_csv(\"/content/drive/My Drive/DataSets/World_Happiness_Report_2017_Clustering.csv\") #Read the dataset\n",
        "wh.describe()"
      ],
      "execution_count": 23,
      "outputs": [
        {
          "output_type": "execute_result",
          "data": {
            "text/html": [
              "<div>\n",
              "<style scoped>\n",
              "    .dataframe tbody tr th:only-of-type {\n",
              "        vertical-align: middle;\n",
              "    }\n",
              "\n",
              "    .dataframe tbody tr th {\n",
              "        vertical-align: top;\n",
              "    }\n",
              "\n",
              "    .dataframe thead th {\n",
              "        text-align: right;\n",
              "    }\n",
              "</style>\n",
              "<table border=\"1\" class=\"dataframe\">\n",
              "  <thead>\n",
              "    <tr style=\"text-align: right;\">\n",
              "      <th></th>\n",
              "      <th>Happiness.Rank</th>\n",
              "      <th>Happiness.Score</th>\n",
              "      <th>Whisker.high</th>\n",
              "      <th>Whisker.low</th>\n",
              "      <th>Economy..GDP.per.Capita.</th>\n",
              "      <th>Family</th>\n",
              "      <th>Health..Life.Expectancy.</th>\n",
              "      <th>Freedom</th>\n",
              "      <th>Generosity</th>\n",
              "      <th>Trust..Government.Corruption.</th>\n",
              "      <th>Dystopia.Residual</th>\n",
              "    </tr>\n",
              "  </thead>\n",
              "  <tbody>\n",
              "    <tr>\n",
              "      <th>count</th>\n",
              "      <td>155.000000</td>\n",
              "      <td>155.000000</td>\n",
              "      <td>155.000000</td>\n",
              "      <td>155.000000</td>\n",
              "      <td>155.000000</td>\n",
              "      <td>155.000000</td>\n",
              "      <td>155.000000</td>\n",
              "      <td>155.000000</td>\n",
              "      <td>155.000000</td>\n",
              "      <td>155.000000</td>\n",
              "      <td>155.000000</td>\n",
              "    </tr>\n",
              "    <tr>\n",
              "      <th>mean</th>\n",
              "      <td>78.000000</td>\n",
              "      <td>5.354019</td>\n",
              "      <td>5.452326</td>\n",
              "      <td>5.255713</td>\n",
              "      <td>0.984718</td>\n",
              "      <td>1.188898</td>\n",
              "      <td>0.551341</td>\n",
              "      <td>0.408786</td>\n",
              "      <td>0.246883</td>\n",
              "      <td>0.123120</td>\n",
              "      <td>1.850238</td>\n",
              "    </tr>\n",
              "    <tr>\n",
              "      <th>std</th>\n",
              "      <td>44.888751</td>\n",
              "      <td>1.131230</td>\n",
              "      <td>1.118542</td>\n",
              "      <td>1.145030</td>\n",
              "      <td>0.420793</td>\n",
              "      <td>0.287263</td>\n",
              "      <td>0.237073</td>\n",
              "      <td>0.149997</td>\n",
              "      <td>0.134780</td>\n",
              "      <td>0.101661</td>\n",
              "      <td>0.500028</td>\n",
              "    </tr>\n",
              "    <tr>\n",
              "      <th>min</th>\n",
              "      <td>1.000000</td>\n",
              "      <td>2.693000</td>\n",
              "      <td>2.864884</td>\n",
              "      <td>2.521116</td>\n",
              "      <td>0.000000</td>\n",
              "      <td>0.000000</td>\n",
              "      <td>0.000000</td>\n",
              "      <td>0.000000</td>\n",
              "      <td>0.000000</td>\n",
              "      <td>0.000000</td>\n",
              "      <td>0.377914</td>\n",
              "    </tr>\n",
              "    <tr>\n",
              "      <th>25%</th>\n",
              "      <td>39.500000</td>\n",
              "      <td>4.505500</td>\n",
              "      <td>4.608172</td>\n",
              "      <td>4.374955</td>\n",
              "      <td>0.663371</td>\n",
              "      <td>1.042635</td>\n",
              "      <td>0.369866</td>\n",
              "      <td>0.303677</td>\n",
              "      <td>0.154106</td>\n",
              "      <td>0.057271</td>\n",
              "      <td>1.591291</td>\n",
              "    </tr>\n",
              "    <tr>\n",
              "      <th>50%</th>\n",
              "      <td>78.000000</td>\n",
              "      <td>5.279000</td>\n",
              "      <td>5.370032</td>\n",
              "      <td>5.193152</td>\n",
              "      <td>1.064578</td>\n",
              "      <td>1.253918</td>\n",
              "      <td>0.606042</td>\n",
              "      <td>0.437454</td>\n",
              "      <td>0.231538</td>\n",
              "      <td>0.089848</td>\n",
              "      <td>1.832910</td>\n",
              "    </tr>\n",
              "    <tr>\n",
              "      <th>75%</th>\n",
              "      <td>116.500000</td>\n",
              "      <td>6.101500</td>\n",
              "      <td>6.194600</td>\n",
              "      <td>6.006527</td>\n",
              "      <td>1.318027</td>\n",
              "      <td>1.414316</td>\n",
              "      <td>0.723008</td>\n",
              "      <td>0.516561</td>\n",
              "      <td>0.323762</td>\n",
              "      <td>0.153296</td>\n",
              "      <td>2.144654</td>\n",
              "    </tr>\n",
              "    <tr>\n",
              "      <th>max</th>\n",
              "      <td>155.000000</td>\n",
              "      <td>7.537000</td>\n",
              "      <td>7.622030</td>\n",
              "      <td>7.479556</td>\n",
              "      <td>1.870766</td>\n",
              "      <td>1.610574</td>\n",
              "      <td>0.949492</td>\n",
              "      <td>0.658249</td>\n",
              "      <td>0.838075</td>\n",
              "      <td>0.464308</td>\n",
              "      <td>3.117485</td>\n",
              "    </tr>\n",
              "  </tbody>\n",
              "</table>\n",
              "</div>"
            ],
            "text/plain": [
              "       Happiness.Rank  ...  Dystopia.Residual\n",
              "count      155.000000  ...         155.000000\n",
              "mean        78.000000  ...           1.850238\n",
              "std         44.888751  ...           0.500028\n",
              "min          1.000000  ...           0.377914\n",
              "25%         39.500000  ...           1.591291\n",
              "50%         78.000000  ...           1.832910\n",
              "75%        116.500000  ...           2.144654\n",
              "max        155.000000  ...           3.117485\n",
              "\n",
              "[8 rows x 11 columns]"
            ]
          },
          "metadata": {
            "tags": []
          },
          "execution_count": 23
        }
      ]
    },
    {
      "cell_type": "code",
      "metadata": {
        "_cell_guid": "4a995d04-48d1-4f55-80a9-c60547959048",
        "_uuid": "96dedc6041f437863058f1373342927a91076dec",
        "collapsed": true,
        "id": "7GyOj_sXYCdF",
        "colab_type": "code",
        "outputId": "c8aa1ad4-6ac2-4628-ae93-4b25ea0a7ca8",
        "colab": {
          "base_uri": "https://localhost:8080/",
          "height": 269
        }
      },
      "source": [
        "print(\"Dimension of dataset: wh.shape\")\n",
        "wh.dtypes"
      ],
      "execution_count": 24,
      "outputs": [
        {
          "output_type": "stream",
          "text": [
            "Dimension of dataset: wh.shape\n"
          ],
          "name": "stdout"
        },
        {
          "output_type": "execute_result",
          "data": {
            "text/plain": [
              "Country                           object\n",
              "Happiness.Rank                     int64\n",
              "Happiness.Score                  float64\n",
              "Whisker.high                     float64\n",
              "Whisker.low                      float64\n",
              "Economy..GDP.per.Capita.         float64\n",
              "Family                           float64\n",
              "Health..Life.Expectancy.         float64\n",
              "Freedom                          float64\n",
              "Generosity                       float64\n",
              "Trust..Government.Corruption.    float64\n",
              "Dystopia.Residual                float64\n",
              "dtype: object"
            ]
          },
          "metadata": {
            "tags": []
          },
          "execution_count": 24
        }
      ]
    },
    {
      "cell_type": "markdown",
      "metadata": {
        "_cell_guid": "362e228d-49e4-4208-ae7f-124bc98e9d1f",
        "_uuid": "592270ad8b7c2baa5e37f512724ccd4dc5d7c568",
        "id": "ikFsWGqLYCdJ",
        "colab_type": "text"
      },
      "source": [
        "**Basic Visualization**\n",
        "\n",
        "*Correlation among variables*\n",
        "\n",
        "First, we will try to understand the correlation between few variables. For this, first compute the correlation matrix among the variables and plotted as heat map. "
      ]
    },
    {
      "cell_type": "code",
      "metadata": {
        "_cell_guid": "85612f12-68e2-405f-a8e9-c805ec459b4a",
        "_uuid": "a490314ccb25814363174381f4beb051978a5ba8",
        "collapsed": true,
        "id": "6IS4dNwRYCdK",
        "colab_type": "code",
        "outputId": "f4a8e9a3-ea14-4801-cb3a-ca57a623a405",
        "colab": {
          "base_uri": "https://localhost:8080/",
          "height": 431
        }
      },
      "source": [
        "#Subsetting the data using 7 out of 12 columns\n",
        "wh1 = wh[['Happiness.Score','Economy..GDP.per.Capita.','Family','Health..Life.Expectancy.', 'Freedom', 'Generosity','Trust..Government.Corruption.','Dystopia.Residual']] \n",
        "cor = wh1.corr() #Calculate the correlation of the above variables\n",
        "sns.heatmap(cor, square = True) #Plot the correlation as heat map"
      ],
      "execution_count": 25,
      "outputs": [
        {
          "output_type": "execute_result",
          "data": {
            "text/plain": [
              "<matplotlib.axes._subplots.AxesSubplot at 0x7fe9218f67b8>"
            ]
          },
          "metadata": {
            "tags": []
          },
          "execution_count": 25
        },
        {
          "output_type": "display_data",
          "data": {
            "image/png": "[encoded data removed]",
            "text/plain": [
              "<Figure size 432x288 with 2 Axes>"
            ]
          },
          "metadata": {
            "tags": []
          }
        }
      ]
    },
    {
      "cell_type": "markdown",
      "metadata": {
        "_cell_guid": "69c30931-a877-4973-98be-5a6bab000020",
        "_uuid": "9c0c7ece201a1f6f91255cb74dc265dbb3a2f51f",
        "id": "jE-YqYbvYCdO",
        "colab_type": "text"
      },
      "source": [
        "We have obtained the heatmap of correlation among the variables. The color palette in the side represents the amount of correlation among the variables. The lighter shade represents high correlation. We can see that happiness score is highly correlated with GDP per capita, family and life expectancy. It is least correlated with generosity. "
      ]
    },
    {
      "cell_type": "markdown",
      "metadata": {
        "_cell_guid": "9d8ad01f-3e49-4d39-93f9-e97eebb57d17",
        "_uuid": "5bd844007c5fe76b129df9330e20d658020a0885",
        "id": "x5g86XEhYCdX",
        "colab_type": "text"
      },
      "source": [
        "**Clustering Of Countries**\n",
        "\n",
        "We are considering eight parameters, namely,  happiness score, GDP per capita, family,  life expectancy, freedom, generosity, corruption and Dystopia residual for clustering the countries. Since the clustering is sensitive to range of data. It is advisable to scale the data before proceeding. "
      ]
    },
    {
      "cell_type": "code",
      "metadata": {
        "_cell_guid": "3652decf-0431-4ad1-87b1-3f829e91625d",
        "_uuid": "6030341a66251b5400fddf291deaf6716756c967",
        "collapsed": true,
        "id": "ZlUcbro0YCdZ",
        "colab_type": "code",
        "outputId": "f1bffeba-c62a-4936-8157-f050f01f8d8f",
        "colab": {
          "base_uri": "https://localhost:8080/",
          "height": 251
        }
      },
      "source": [
        "#Standrd normalization method. SUbtracting mean and divied by standard deviation\n",
        "#Scaling of data using z-score. -infinity to +infinity is the range of z-score.\n",
        "ss = StandardScaler()\n",
        "ss.fit_transform(wh1)"
      ],
      "execution_count": 26,
      "outputs": [
        {
          "output_type": "execute_result",
          "data": {
            "text/plain": [
              "array([[ 1.93599602,  1.50618765,  1.20357658, ...,  0.8569643 ,\n",
              "         1.90308437,  0.85629599],\n",
              "       [ 1.92269283,  1.18651768,  1.26503623, ...,  0.80685634,\n",
              "         2.73999784,  0.92989102],\n",
              "       [ 1.90672969,  1.1823454 ,  1.47266877, ...,  1.70201314,\n",
              "         0.30006609,  0.94796425],\n",
              "       ...,\n",
              "       [-1.77816933, -1.12910094, -0.51306362, ...,  0.79923322,\n",
              "        -0.56334657, -2.4660431 ],\n",
              "       [-2.17193469, -2.12929212, -1.95262416, ..., -0.31596505,\n",
              "        -0.38459935, -0.33549229],\n",
              "       [-2.35994869, -2.34773594, -4.15212515, ...,  0.253028  ,\n",
              "        -0.65680192,  0.43290816]])"
            ]
          },
          "metadata": {
            "tags": []
          },
          "execution_count": 26
        }
      ]
    },
    {
      "cell_type": "markdown",
      "metadata": {
        "_cell_guid": "288c974d-386a-4dc9-b14a-7c82a557ed32",
        "_uuid": "ff2353b141b76f2634fd9c4ec0e573fc99815694",
        "id": "cuHQkEMjYCdd",
        "colab_type": "text"
      },
      "source": [
        "**(1) k-means clustering**\n",
        "\n",
        "In general, k-means is the first choice for clustering because of its simplicity. Here, the user has to define the number of clusters (Post on how to decide the number of clusters would be dealt later). The clusters are formed based on the closeness to the center value of the clusters. The initial center value is chosen randomly.  K-means clustering is top-down approach, in the sense, we decide the number of clusters (k) and then group the data points into k clusters."
      ]
    },
    {
      "cell_type": "code",
      "metadata": {
        "_cell_guid": "0cc42cc3-0adf-4587-929a-3257b0f3a080",
        "_uuid": "041d132411297bbc39d72e00d2119b1e68f9ed0d",
        "id": "V7nHJgdXYCde",
        "colab_type": "code",
        "colab": {}
      },
      "source": [
        "#K means Clustering \n",
        "def doKmeans(X, nclust=6):\n",
        "    model = KMeans(nclust)\n",
        "    model.fit(X)\n",
        "    clust_labels = model.predict(X)\n",
        "    cent = model.cluster_centers_\n",
        "    return (clust_labels, cent)\n",
        "\n",
        "clust_labels, cent = doKmeans(wh1, 4)\n",
        "kmeans = pd.DataFrame(clust_labels)\n",
        "#wh1.drop('kmeans', axis=1)\n",
        "wh1.insert((wh1.shape[1]),'kmeans',kmeans)"
      ],
      "execution_count": 0,
      "outputs": []
    },
    {
      "cell_type": "code",
      "metadata": {
        "id": "ww38q9JMkloV",
        "colab_type": "code",
        "colab": {
          "base_uri": "https://localhost:8080/",
          "height": 224
        },
        "outputId": "cda6c87a-9456-4c22-fceb-30cddab54d42"
      },
      "source": [
        "wh1.head()"
      ],
      "execution_count": 28,
      "outputs": [
        {
          "output_type": "execute_result",
          "data": {
            "text/html": [
              "<div>\n",
              "<style scoped>\n",
              "    .dataframe tbody tr th:only-of-type {\n",
              "        vertical-align: middle;\n",
              "    }\n",
              "\n",
              "    .dataframe tbody tr th {\n",
              "        vertical-align: top;\n",
              "    }\n",
              "\n",
              "    .dataframe thead th {\n",
              "        text-align: right;\n",
              "    }\n",
              "</style>\n",
              "<table border=\"1\" class=\"dataframe\">\n",
              "  <thead>\n",
              "    <tr style=\"text-align: right;\">\n",
              "      <th></th>\n",
              "      <th>Happiness.Score</th>\n",
              "      <th>Economy..GDP.per.Capita.</th>\n",
              "      <th>Family</th>\n",
              "      <th>Health..Life.Expectancy.</th>\n",
              "      <th>Freedom</th>\n",
              "      <th>Generosity</th>\n",
              "      <th>Trust..Government.Corruption.</th>\n",
              "      <th>Dystopia.Residual</th>\n",
              "      <th>kmeans</th>\n",
              "    </tr>\n",
              "  </thead>\n",
              "  <tbody>\n",
              "    <tr>\n",
              "      <th>0</th>\n",
              "      <td>7.537</td>\n",
              "      <td>1.616463</td>\n",
              "      <td>1.533524</td>\n",
              "      <td>0.796667</td>\n",
              "      <td>0.635423</td>\n",
              "      <td>0.362012</td>\n",
              "      <td>0.315964</td>\n",
              "      <td>2.277027</td>\n",
              "      <td>0</td>\n",
              "    </tr>\n",
              "    <tr>\n",
              "      <th>1</th>\n",
              "      <td>7.522</td>\n",
              "      <td>1.482383</td>\n",
              "      <td>1.551122</td>\n",
              "      <td>0.792566</td>\n",
              "      <td>0.626007</td>\n",
              "      <td>0.355280</td>\n",
              "      <td>0.400770</td>\n",
              "      <td>2.313707</td>\n",
              "      <td>0</td>\n",
              "    </tr>\n",
              "    <tr>\n",
              "      <th>2</th>\n",
              "      <td>7.504</td>\n",
              "      <td>1.480633</td>\n",
              "      <td>1.610574</td>\n",
              "      <td>0.833552</td>\n",
              "      <td>0.627163</td>\n",
              "      <td>0.475540</td>\n",
              "      <td>0.153527</td>\n",
              "      <td>2.322715</td>\n",
              "      <td>0</td>\n",
              "    </tr>\n",
              "    <tr>\n",
              "      <th>3</th>\n",
              "      <td>7.494</td>\n",
              "      <td>1.564980</td>\n",
              "      <td>1.516912</td>\n",
              "      <td>0.858131</td>\n",
              "      <td>0.620071</td>\n",
              "      <td>0.290549</td>\n",
              "      <td>0.367007</td>\n",
              "      <td>2.276716</td>\n",
              "      <td>0</td>\n",
              "    </tr>\n",
              "    <tr>\n",
              "      <th>4</th>\n",
              "      <td>7.469</td>\n",
              "      <td>1.443572</td>\n",
              "      <td>1.540247</td>\n",
              "      <td>0.809158</td>\n",
              "      <td>0.617951</td>\n",
              "      <td>0.245483</td>\n",
              "      <td>0.382612</td>\n",
              "      <td>2.430182</td>\n",
              "      <td>0</td>\n",
              "    </tr>\n",
              "  </tbody>\n",
              "</table>\n",
              "</div>"
            ],
            "text/plain": [
              "   Happiness.Score  Economy..GDP.per.Capita.  ...  Dystopia.Residual  kmeans\n",
              "0            7.537                  1.616463  ...           2.277027       0\n",
              "1            7.522                  1.482383  ...           2.313707       0\n",
              "2            7.504                  1.480633  ...           2.322715       0\n",
              "3            7.494                  1.564980  ...           2.276716       0\n",
              "4            7.469                  1.443572  ...           2.430182       0\n",
              "\n",
              "[5 rows x 9 columns]"
            ]
          },
          "metadata": {
            "tags": []
          },
          "execution_count": 28
        }
      ]
    },
    {
      "cell_type": "code",
      "metadata": {
        "id": "51dpm4XrkswU",
        "colab_type": "code",
        "colab": {
          "base_uri": "https://localhost:8080/",
          "height": 317
        },
        "outputId": "8c9e45d5-ad3d-48d0-aab2-e34663863d66"
      },
      "source": [
        "wh1.describe()"
      ],
      "execution_count": 29,
      "outputs": [
        {
          "output_type": "execute_result",
          "data": {
            "text/html": [
              "<div>\n",
              "<style scoped>\n",
              "    .dataframe tbody tr th:only-of-type {\n",
              "        vertical-align: middle;\n",
              "    }\n",
              "\n",
              "    .dataframe tbody tr th {\n",
              "        vertical-align: top;\n",
              "    }\n",
              "\n",
              "    .dataframe thead th {\n",
              "        text-align: right;\n",
              "    }\n",
              "</style>\n",
              "<table border=\"1\" class=\"dataframe\">\n",
              "  <thead>\n",
              "    <tr style=\"text-align: right;\">\n",
              "      <th></th>\n",
              "      <th>Happiness.Score</th>\n",
              "      <th>Economy..GDP.per.Capita.</th>\n",
              "      <th>Family</th>\n",
              "      <th>Health..Life.Expectancy.</th>\n",
              "      <th>Freedom</th>\n",
              "      <th>Generosity</th>\n",
              "      <th>Trust..Government.Corruption.</th>\n",
              "      <th>Dystopia.Residual</th>\n",
              "      <th>kmeans</th>\n",
              "    </tr>\n",
              "  </thead>\n",
              "  <tbody>\n",
              "    <tr>\n",
              "      <th>count</th>\n",
              "      <td>155.000000</td>\n",
              "      <td>155.000000</td>\n",
              "      <td>155.000000</td>\n",
              "      <td>155.000000</td>\n",
              "      <td>155.000000</td>\n",
              "      <td>155.000000</td>\n",
              "      <td>155.000000</td>\n",
              "      <td>155.000000</td>\n",
              "      <td>155.000000</td>\n",
              "    </tr>\n",
              "    <tr>\n",
              "      <th>mean</th>\n",
              "      <td>5.354019</td>\n",
              "      <td>0.984718</td>\n",
              "      <td>1.188898</td>\n",
              "      <td>0.551341</td>\n",
              "      <td>0.408786</td>\n",
              "      <td>0.246883</td>\n",
              "      <td>0.123120</td>\n",
              "      <td>1.850238</td>\n",
              "      <td>1.741935</td>\n",
              "    </tr>\n",
              "    <tr>\n",
              "      <th>std</th>\n",
              "      <td>1.131230</td>\n",
              "      <td>0.420793</td>\n",
              "      <td>0.287263</td>\n",
              "      <td>0.237073</td>\n",
              "      <td>0.149997</td>\n",
              "      <td>0.134780</td>\n",
              "      <td>0.101661</td>\n",
              "      <td>0.500028</td>\n",
              "      <td>1.183428</td>\n",
              "    </tr>\n",
              "    <tr>\n",
              "      <th>min</th>\n",
              "      <td>2.693000</td>\n",
              "      <td>0.000000</td>\n",
              "      <td>0.000000</td>\n",
              "      <td>0.000000</td>\n",
              "      <td>0.000000</td>\n",
              "      <td>0.000000</td>\n",
              "      <td>0.000000</td>\n",
              "      <td>0.377914</td>\n",
              "      <td>0.000000</td>\n",
              "    </tr>\n",
              "    <tr>\n",
              "      <th>25%</th>\n",
              "      <td>4.505500</td>\n",
              "      <td>0.663371</td>\n",
              "      <td>1.042635</td>\n",
              "      <td>0.369866</td>\n",
              "      <td>0.303677</td>\n",
              "      <td>0.154106</td>\n",
              "      <td>0.057271</td>\n",
              "      <td>1.591291</td>\n",
              "      <td>1.000000</td>\n",
              "    </tr>\n",
              "    <tr>\n",
              "      <th>50%</th>\n",
              "      <td>5.279000</td>\n",
              "      <td>1.064578</td>\n",
              "      <td>1.253918</td>\n",
              "      <td>0.606042</td>\n",
              "      <td>0.437454</td>\n",
              "      <td>0.231538</td>\n",
              "      <td>0.089848</td>\n",
              "      <td>1.832910</td>\n",
              "      <td>2.000000</td>\n",
              "    </tr>\n",
              "    <tr>\n",
              "      <th>75%</th>\n",
              "      <td>6.101500</td>\n",
              "      <td>1.318027</td>\n",
              "      <td>1.414316</td>\n",
              "      <td>0.723008</td>\n",
              "      <td>0.516561</td>\n",
              "      <td>0.323762</td>\n",
              "      <td>0.153296</td>\n",
              "      <td>2.144654</td>\n",
              "      <td>3.000000</td>\n",
              "    </tr>\n",
              "    <tr>\n",
              "      <th>max</th>\n",
              "      <td>7.537000</td>\n",
              "      <td>1.870766</td>\n",
              "      <td>1.610574</td>\n",
              "      <td>0.949492</td>\n",
              "      <td>0.658249</td>\n",
              "      <td>0.838075</td>\n",
              "      <td>0.464308</td>\n",
              "      <td>3.117485</td>\n",
              "      <td>3.000000</td>\n",
              "    </tr>\n",
              "  </tbody>\n",
              "</table>\n",
              "</div>"
            ],
            "text/plain": [
              "       Happiness.Score  Economy..GDP.per.Capita.  ...  Dystopia.Residual      kmeans\n",
              "count       155.000000                155.000000  ...         155.000000  155.000000\n",
              "mean          5.354019                  0.984718  ...           1.850238    1.741935\n",
              "std           1.131230                  0.420793  ...           0.500028    1.183428\n",
              "min           2.693000                  0.000000  ...           0.377914    0.000000\n",
              "25%           4.505500                  0.663371  ...           1.591291    1.000000\n",
              "50%           5.279000                  1.064578  ...           1.832910    2.000000\n",
              "75%           6.101500                  1.318027  ...           2.144654    3.000000\n",
              "max           7.537000                  1.870766  ...           3.117485    3.000000\n",
              "\n",
              "[8 rows x 9 columns]"
            ]
          },
          "metadata": {
            "tags": []
          },
          "execution_count": 29
        }
      ]
    },
    {
      "cell_type": "code",
      "metadata": {
        "colab_type": "code",
        "outputId": "3b893a6c-caf7-42dc-db00-90edd2a23639",
        "id": "6oDkugN3uOuA",
        "colab": {
          "base_uri": "https://localhost:8080/",
          "height": 1000
        }
      },
      "source": [
        "kmeans[0]  # DataFrame contains Cluster labels, not centers\n"
      ],
      "execution_count": 30,
      "outputs": [
        {
          "output_type": "execute_result",
          "data": {
            "text/plain": [
              "0      0\n",
              "1      0\n",
              "2      0\n",
              "3      0\n",
              "4      0\n",
              "5      0\n",
              "6      0\n",
              "7      0\n",
              "8      0\n",
              "9      0\n",
              "10     0\n",
              "11     0\n",
              "12     0\n",
              "13     0\n",
              "14     0\n",
              "15     0\n",
              "16     0\n",
              "17     0\n",
              "18     0\n",
              "19     0\n",
              "20     0\n",
              "21     0\n",
              "22     0\n",
              "23     0\n",
              "24     0\n",
              "25     0\n",
              "26     0\n",
              "27     0\n",
              "28     0\n",
              "29     0\n",
              "      ..\n",
              "125    2\n",
              "126    2\n",
              "127    2\n",
              "128    2\n",
              "129    2\n",
              "130    2\n",
              "131    2\n",
              "132    1\n",
              "133    1\n",
              "134    1\n",
              "135    1\n",
              "136    1\n",
              "137    1\n",
              "138    1\n",
              "139    1\n",
              "140    1\n",
              "141    2\n",
              "142    1\n",
              "143    1\n",
              "144    1\n",
              "145    1\n",
              "146    1\n",
              "147    1\n",
              "148    1\n",
              "149    1\n",
              "150    1\n",
              "151    1\n",
              "152    1\n",
              "153    1\n",
              "154    1\n",
              "Name: 0, Length: 155, dtype: int32"
            ]
          },
          "metadata": {
            "tags": []
          },
          "execution_count": 30
        }
      ]
    },
    {
      "cell_type": "code",
      "metadata": {
        "_cell_guid": "88aa2f5e-d502-41cd-bbc8-d2337db14011",
        "_uuid": "bb7f6d3cced030d3e6664706dfe83c35c4fbed56",
        "collapsed": true,
        "id": "g0GtmRouYCdj",
        "colab_type": "code",
        "outputId": "f0d07b17-e9ca-4929-c990-8200ae60b895",
        "colab": {
          "base_uri": "https://localhost:8080/",
          "height": 313
        }
      },
      "source": [
        "#Plot the clusters obtained using k means\n",
        "fig = plt.figure()\n",
        "ax = fig.add_subplot(111)\n",
        "scatter = ax.scatter(wh1['Economy..GDP.per.Capita.'],wh1['Trust..Government.Corruption.'],\n",
        "                     c=kmeans[0], s=50)\n",
        "ax.set_title('K-Means Clustering')\n",
        "ax.set_xlabel('GDP per Capita')\n",
        "ax.set_ylabel('Corruption')\n",
        "plt.colorbar(scatter)"
      ],
      "execution_count": 31,
      "outputs": [
        {
          "output_type": "execute_result",
          "data": {
            "text/plain": [
              "<matplotlib.colorbar.Colorbar at 0x7fe90c79c080>"
            ]
          },
          "metadata": {
            "tags": []
          },
          "execution_count": 31
        },
        {
          "output_type": "display_data",
          "data": {
            "image/png": "[encoded data removed]",
            "text/plain": [
              "<Figure size 432x288 with 2 Axes>"
            ]
          },
          "metadata": {
            "tags": []
          }
        }
      ]
    },
    {
      "cell_type": "markdown",
      "metadata": {
        "_cell_guid": "304ba15e-44ab-4b8b-950b-b206d7b09f50",
        "_uuid": "85ee9940591876af6059545d10cd965adfe59e50",
        "id": "295TWi8UYCdo",
        "colab_type": "text"
      },
      "source": [
        "**(2) Agglomerative Clustering**\n",
        "\n",
        "Also known as Hierarchical clustering, does not require the user to specify the number of clusters. Initially, each point is considered as a separate cluster, then it recursively clusters the points together depending upon the distance between them. The points are clustered in such a way that the distance between points within a cluster is minimum and distance between the cluster is maximum. Commonly used distance measures are Euclidean distance, Manhattan distance or Mahalanobis distance. Unlike k-means clustering, it is \"bottom-up\" approach. \n",
        "\n",
        "Python Tip: Though providing the number of clusters is not necessary but Python provides an option of providing the same for easy and simple use."
      ]
    },
    {
      "cell_type": "code",
      "metadata": {
        "_cell_guid": "6ddada42-8406-47db-9b78-3b28c7c5615c",
        "_uuid": "3fb9fb68af29acacbcebcff22e8bc4daa617d6d7",
        "id": "MEe4WP3BYCdp",
        "colab_type": "code",
        "colab": {}
      },
      "source": [
        "def doAgglomerative(X, nclust=6):\n",
        "    model = AgglomerativeClustering(n_clusters=nclust, affinity = 'euclidean', linkage = 'ward')\n",
        "    clust_labels1 = model.fit_predict(X)\n",
        "    return (clust_labels1)\n",
        "\n",
        "clust_labels1 = doAgglomerative(wh1, 6)\n",
        "agglomerative = pd.DataFrame(clust_labels1)\n",
        "wh1.insert((wh1.shape[1]),'agglomerative',agglomerative)"
      ],
      "execution_count": 0,
      "outputs": []
    },
    {
      "cell_type": "code",
      "metadata": {
        "id": "FwHLBjTJ4Inv",
        "colab_type": "code",
        "colab": {
          "base_uri": "https://localhost:8080/",
          "height": 313
        },
        "outputId": "5c531e9b-b19f-4186-88e7-227ef7c23334"
      },
      "source": [
        "#Plot the clusters obtained using Agglomerative clustering or Hierarchical clustering\n",
        "fig = plt.figure()\n",
        "ax = fig.add_subplot(111)\n",
        "\n",
        "scatter = ax.scatter(wh1['Economy..GDP.per.Capita.'],wh1['Trust..Government.Corruption.'], c=agglomerative[0], s=50 )\n",
        "ax.set_title('Agglomerative Clustering')\n",
        "ax.set_xlabel('GDP per Capita')\n",
        "ax.set_ylabel('Corruption')\n",
        "plt.colorbar(scatter)"
      ],
      "execution_count": 33,
      "outputs": [
        {
          "output_type": "execute_result",
          "data": {
            "text/plain": [
              "<matplotlib.colorbar.Colorbar at 0x7fe90c6def28>"
            ]
          },
          "metadata": {
            "tags": []
          },
          "execution_count": 33
        },
        {
          "output_type": "display_data",
          "data": {
            "image/png": "[encoded data removed]",
            "text/plain": [
              "<Figure size 432x288 with 2 Axes>"
            ]
          },
          "metadata": {
            "tags": []
          }
        }
      ]
    },
    {
      "cell_type": "code",
      "metadata": {
        "_cell_guid": "c1561e31-2d70-4f15-a732-75851776a800",
        "_uuid": "5205b1bdc1b01d155deea42b71fc012fe108b105",
        "collapsed": true,
        "id": "xHcgZDx2YCdt",
        "colab_type": "code",
        "outputId": "22e3a64e-8580-4f69-d450-0e515da23f07",
        "colab": {
          "base_uri": "https://localhost:8080/",
          "height": 313
        }
      },
      "source": [
        "#Plot the clusters obtained using Agglomerative clustering or Hierarchical clustering\n",
        "fig = plt.figure()\n",
        "ax = fig.add_subplot(111)\n",
        "#ax2 = fig.add_subplot(122)\n",
        "\n",
        "#changing colors using cmap\n",
        "scatter = ax.scatter(wh1['Economy..GDP.per.Capita.'],wh1['Trust..Government.Corruption.'], c=agglomerative[0], s=50, cmap='gist_yarg')\n",
        "ax.set_title('Agglomerative Clustering')\n",
        "ax.set_xlabel('GDP per Capita')\n",
        "ax.set_ylabel('Corruption')\n",
        "plt.colorbar(scatter)"
      ],
      "execution_count": 34,
      "outputs": [
        {
          "output_type": "execute_result",
          "data": {
            "text/plain": [
              "<matplotlib.colorbar.Colorbar at 0x7fe90c7f7748>"
            ]
          },
          "metadata": {
            "tags": []
          },
          "execution_count": 34
        },
        {
          "output_type": "display_data",
          "data": {
            "image/png": "[encoded data removed]",
            "text/plain": [
              "<Figure size 432x288 with 2 Axes>"
            ]
          },
          "metadata": {
            "tags": []
          }
        }
      ]
    },
    {
      "cell_type": "code",
      "metadata": {
        "id": "46orVKim4Uga",
        "colab_type": "code",
        "colab": {
          "base_uri": "https://localhost:8080/",
          "height": 297
        },
        "outputId": "705a90af-2854-4db1-8a3a-f7469bcc89e2"
      },
      "source": [
        "#Plot the clusters obtained using Agglomerative clustering or Hierarchical clustering\n",
        "#grid of figures\n",
        "fig = plt.figure()\n",
        "fig.subplots_adjust(right=0.7)\n",
        "\n",
        "#cbar_ax = fig.add_axes([0.85, 0.15, 0.05, 0.7])\n",
        "#fig.colorbar(im, cax=cbar_ax)\n",
        "\n",
        "ax = fig.add_subplot(121)\n",
        "scatter = ax.scatter(wh1['Economy..GDP.per.Capita.'],wh1['Trust..Government.Corruption.'], c=agglomerative[0], s=50)\n",
        "ax.set_title('Agglomerative Clustering' )\n",
        "ax.set_xlabel('GDP per Capita')\n",
        "ax.set_ylabel('Corruption')\n",
        "plt.colorbar(scatter)\n",
        "#plt.colorbar(scatter, pad =0.2, shrink=0.9 )\n",
        "\n",
        "ax2 = fig.add_subplot(122)\n",
        "scatter2 = ax2.scatter(wh1['Economy..GDP.per.Capita.'],wh1['Trust..Government.Corruption.'], c=agglomerative[0], s=50, cmap='gist_yarg')\n",
        "ax2.set_title('Agglomerative Clustering 2')\n",
        "ax2.set_xlabel('GDP per Capita')\n",
        "ax2.set_ylabel('Corruption')\n",
        "plt.colorbar(scatter2)\n",
        "plt.tight_layout()"
      ],
      "execution_count": 35,
      "outputs": [
        {
          "output_type": "display_data",
          "data": {
            "image/png": "[encoded data removed]",
            "text/plain": [
              "<Figure size 432x288 with 4 Axes>"
            ]
          },
          "metadata": {
            "tags": []
          }
        }
      ]
    }
  ]
}